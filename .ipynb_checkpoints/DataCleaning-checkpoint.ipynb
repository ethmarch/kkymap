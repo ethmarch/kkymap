{
 "cells": [
  {
   "cell_type": "code",
   "execution_count": 26,
   "metadata": {},
   "outputs": [],
   "source": [
    "import pandas as pd\n",
    "import requests\n",
    "import geopy\n",
    "import time"
   ]
  },
  {
   "cell_type": "code",
   "execution_count": 4,
   "metadata": {},
   "outputs": [],
   "source": [
    "chapters = pd.read_csv(\"chapters.csv\")"
   ]
  },
  {
   "cell_type": "code",
   "execution_count": 5,
   "metadata": {},
   "outputs": [
    {
     "data": {
      "text/html": [
       "<div>\n",
       "<style scoped>\n",
       "    .dataframe tbody tr th:only-of-type {\n",
       "        vertical-align: middle;\n",
       "    }\n",
       "\n",
       "    .dataframe tbody tr th {\n",
       "        vertical-align: top;\n",
       "    }\n",
       "\n",
       "    .dataframe thead th {\n",
       "        text-align: right;\n",
       "    }\n",
       "</style>\n",
       "<table border=\"1\" class=\"dataframe\">\n",
       "  <thead>\n",
       "    <tr style=\"text-align: right;\">\n",
       "      <th></th>\n",
       "      <th>Chapter</th>\n",
       "      <th>Institution</th>\n",
       "      <th>Location</th>\n",
       "      <th>District</th>\n",
       "      <th>Charter Date</th>\n",
       "      <th>Status</th>\n",
       "    </tr>\n",
       "  </thead>\n",
       "  <tbody>\n",
       "    <tr>\n",
       "      <th>0</th>\n",
       "      <td>Alpha</td>\n",
       "      <td>Oklahoma State University</td>\n",
       "      <td>Stillwater, Oklahoma</td>\n",
       "      <td>Southwest</td>\n",
       "      <td>November 27, 1919</td>\n",
       "      <td>Active</td>\n",
       "    </tr>\n",
       "    <tr>\n",
       "      <th>1</th>\n",
       "      <td>Beta</td>\n",
       "      <td>Montana State University</td>\n",
       "      <td>Bozeman, Montana</td>\n",
       "      <td>Midwest</td>\n",
       "      <td>December 17, 1920</td>\n",
       "      <td>Active</td>\n",
       "    </tr>\n",
       "    <tr>\n",
       "      <th>2</th>\n",
       "      <td>Gamma</td>\n",
       "      <td>University of Washington</td>\n",
       "      <td>Seattle, Washington</td>\n",
       "      <td>Western</td>\n",
       "      <td>December 16, 1920July 10, 1993*</td>\n",
       "      <td>Active</td>\n",
       "    </tr>\n",
       "    <tr>\n",
       "      <th>3</th>\n",
       "      <td>Delta</td>\n",
       "      <td>University of Oklahoma</td>\n",
       "      <td>Norman, Oklahoma</td>\n",
       "      <td>Southwest</td>\n",
       "      <td>May 21, 1921</td>\n",
       "      <td>Active</td>\n",
       "    </tr>\n",
       "    <tr>\n",
       "      <th>4</th>\n",
       "      <td>Epsilon</td>\n",
       "      <td>Mississippi State University</td>\n",
       "      <td>Starkville, Mississippi</td>\n",
       "      <td>Southeast</td>\n",
       "      <td>April 20, 1923April 20, 1994*</td>\n",
       "      <td>Active</td>\n",
       "    </tr>\n",
       "  </tbody>\n",
       "</table>\n",
       "</div>"
      ],
      "text/plain": [
       "   Chapter                   Institution                 Location   District  \\\n",
       "0    Alpha     Oklahoma State University     Stillwater, Oklahoma  Southwest   \n",
       "1     Beta      Montana State University         Bozeman, Montana    Midwest   \n",
       "2    Gamma      University of Washington      Seattle, Washington    Western   \n",
       "3    Delta        University of Oklahoma         Norman, Oklahoma  Southwest   \n",
       "4  Epsilon  Mississippi State University  Starkville, Mississippi  Southeast   \n",
       "\n",
       "                      Charter Date  Status  \n",
       "0                November 27, 1919  Active  \n",
       "1                December 17, 1920  Active  \n",
       "2  December 16, 1920July 10, 1993*  Active  \n",
       "3                     May 21, 1921  Active  \n",
       "4    April 20, 1923April 20, 1994*  Active  "
      ]
     },
     "execution_count": 5,
     "metadata": {},
     "output_type": "execute_result"
    }
   ],
   "source": [
    "chapters.head()"
   ]
  },
  {
   "cell_type": "code",
   "execution_count": 7,
   "metadata": {},
   "outputs": [
    {
     "data": {
      "text/plain": [
       "0                Stillwater, Oklahoma\n",
       "1                    Bozeman, Montana\n",
       "2                 Seattle, Washington\n",
       "3                    Norman, Oklahoma\n",
       "4             Starkville, Mississippi\n",
       "5         State College, Pennsylvania\n",
       "6                      Columbus, Ohio\n",
       "7                   Corvallis, Oregon\n",
       "8                    Atlanta, Georgia\n",
       "9              Fort Collins, Colorado\n",
       "10             Fayetteville, Arkansas\n",
       "11          Grand Forks, North Dakota\n",
       "12                Ann Arbor, Michigan\n",
       "13                   Golden, Colorado\n",
       "14          Morgantown, West Virginia\n",
       "15                    Auburn, Alabama\n",
       "16             New Orleans, Louisiana\n",
       "17                          Ada, Ohio\n",
       "18                  Missoula, Montana\n",
       "19                   Cincinnati, Ohio\n",
       "20              Palo Alto, California\n",
       "21               Berkeley, California\n",
       "22            Los Angeles, California\n",
       "23                    Tucson, Arizona\n",
       "24                       Reno, Nevada\n",
       "25              Indianapolis, Indiana\n",
       "26             Durham, North Carolina\n",
       "27                       Athens, Ohio\n",
       "28         Philadelphia, Pennsylvania\n",
       "29               Bloomington, Indiana\n",
       "                    ...              \n",
       "300            Newport News, Virginia\n",
       "301           Allentown, Pennsylvania\n",
       "302                 Fairfax, Virginia\n",
       "303                    Eugene, Oregon\n",
       "304          Columbia, South Carolina\n",
       "305      Chester County, Pennsylvania\n",
       "306                San Antonio, Texas\n",
       "307               Fort Myers, Florida\n",
       "308             Fullerton, California\n",
       "309                   Edinburg, Texas\n",
       "310                      Tyler, Texas\n",
       "311               Montgomery, Alabama\n",
       "312                  Atlanta, Georgia\n",
       "313                 Fort Worth, Texas\n",
       "314          Pittsburgh, Pennsylvania\n",
       "315                    Abilene, Texas\n",
       "316                  Pocatello, Idaho\n",
       "317            Edinboro, Pennsylvania\n",
       "318           Raleigh, North Carolina\n",
       "319             Boston, Massachusetts\n",
       "320    Elizabeth City, North Carolina\n",
       "321               Statesboro, Georgia\n",
       "322                   Beebe, Arkansas\n",
       "323                      Kennesaw, GA\n",
       "324                    Tuscaloosa, AL\n",
       "325                  Urbana, Illinois\n",
       "326           West Haven, Connecticut\n",
       "327                 Chicago, Illinois\n",
       "328                 Norfolk, Virginia\n",
       "329                Pomona, California\n",
       "Name: Location, Length: 330, dtype: object"
      ]
     },
     "execution_count": 7,
     "metadata": {},
     "output_type": "execute_result"
    }
   ],
   "source": [
    "chapters.Location"
   ]
  },
  {
   "cell_type": "code",
   "execution_count": 24,
   "metadata": {},
   "outputs": [],
   "source": [
    "from geopy.geocoders import Nominatim\n",
    "geolocator = Nominatim(user_agent=\"portfolio-app\")\n",
    "location = geolocator.geocode(\"Kennesaw, GA\")"
   ]
  },
  {
   "cell_type": "code",
   "execution_count": 25,
   "metadata": {},
   "outputs": [
    {
     "data": {
      "text/plain": [
       "34.0234337"
      ]
     },
     "execution_count": 25,
     "metadata": {},
     "output_type": "execute_result"
    }
   ],
   "source": [
    "location.latitude"
   ]
  },
  {
   "cell_type": "code",
   "execution_count": 27,
   "metadata": {},
   "outputs": [],
   "source": [
    "lats = []\n",
    "lons = []\n",
    "from geopy.geocoders import Nominatim\n",
    "geolocator = Nominatim(user_agent=\"portfolio-app\")\n",
    "\n",
    "for loc in chapters.Location:\n",
    "    try:\n",
    "        r = geolocator.geocode(loc)\n",
    "        lats.append(r.latitude)\n",
    "        lons.append(r.longitude)\n",
    "    except:\n",
    "        print(loc)\n",
    "    time.sleep(1)"
   ]
  },
  {
   "cell_type": "code",
   "execution_count": 29,
   "metadata": {},
   "outputs": [
    {
     "data": {
      "text/plain": [
       "330"
      ]
     },
     "execution_count": 29,
     "metadata": {},
     "output_type": "execute_result"
    }
   ],
   "source": [
    "len(lats)"
   ]
  },
  {
   "cell_type": "code",
   "execution_count": 30,
   "metadata": {},
   "outputs": [],
   "source": [
    "chapters[\"Lat\"] = lats\n",
    "chapters[\"Long\"] = lons"
   ]
  },
  {
   "cell_type": "code",
   "execution_count": 31,
   "metadata": {},
   "outputs": [
    {
     "data": {
      "text/html": [
       "<div>\n",
       "<style scoped>\n",
       "    .dataframe tbody tr th:only-of-type {\n",
       "        vertical-align: middle;\n",
       "    }\n",
       "\n",
       "    .dataframe tbody tr th {\n",
       "        vertical-align: top;\n",
       "    }\n",
       "\n",
       "    .dataframe thead th {\n",
       "        text-align: right;\n",
       "    }\n",
       "</style>\n",
       "<table border=\"1\" class=\"dataframe\">\n",
       "  <thead>\n",
       "    <tr style=\"text-align: right;\">\n",
       "      <th></th>\n",
       "      <th>Chapter</th>\n",
       "      <th>Institution</th>\n",
       "      <th>Location</th>\n",
       "      <th>District</th>\n",
       "      <th>Charter Date</th>\n",
       "      <th>Status</th>\n",
       "      <th>Lat</th>\n",
       "      <th>Long</th>\n",
       "    </tr>\n",
       "  </thead>\n",
       "  <tbody>\n",
       "    <tr>\n",
       "      <th>0</th>\n",
       "      <td>Alpha</td>\n",
       "      <td>Oklahoma State University</td>\n",
       "      <td>Stillwater, Oklahoma</td>\n",
       "      <td>Southwest</td>\n",
       "      <td>November 27, 1919</td>\n",
       "      <td>Active</td>\n",
       "      <td>36.115631</td>\n",
       "      <td>-97.058572</td>\n",
       "    </tr>\n",
       "    <tr>\n",
       "      <th>1</th>\n",
       "      <td>Beta</td>\n",
       "      <td>Montana State University</td>\n",
       "      <td>Bozeman, Montana</td>\n",
       "      <td>Midwest</td>\n",
       "      <td>December 17, 1920</td>\n",
       "      <td>Active</td>\n",
       "      <td>45.679984</td>\n",
       "      <td>-111.044675</td>\n",
       "    </tr>\n",
       "    <tr>\n",
       "      <th>2</th>\n",
       "      <td>Gamma</td>\n",
       "      <td>University of Washington</td>\n",
       "      <td>Seattle, Washington</td>\n",
       "      <td>Western</td>\n",
       "      <td>December 16, 1920July 10, 1993*</td>\n",
       "      <td>Active</td>\n",
       "      <td>47.603832</td>\n",
       "      <td>-122.330062</td>\n",
       "    </tr>\n",
       "    <tr>\n",
       "      <th>3</th>\n",
       "      <td>Delta</td>\n",
       "      <td>University of Oklahoma</td>\n",
       "      <td>Norman, Oklahoma</td>\n",
       "      <td>Southwest</td>\n",
       "      <td>May 21, 1921</td>\n",
       "      <td>Active</td>\n",
       "      <td>35.222572</td>\n",
       "      <td>-97.439482</td>\n",
       "    </tr>\n",
       "    <tr>\n",
       "      <th>4</th>\n",
       "      <td>Epsilon</td>\n",
       "      <td>Mississippi State University</td>\n",
       "      <td>Starkville, Mississippi</td>\n",
       "      <td>Southeast</td>\n",
       "      <td>April 20, 1923April 20, 1994*</td>\n",
       "      <td>Active</td>\n",
       "      <td>33.450400</td>\n",
       "      <td>-88.818387</td>\n",
       "    </tr>\n",
       "  </tbody>\n",
       "</table>\n",
       "</div>"
      ],
      "text/plain": [
       "   Chapter                   Institution                 Location   District  \\\n",
       "0    Alpha     Oklahoma State University     Stillwater, Oklahoma  Southwest   \n",
       "1     Beta      Montana State University         Bozeman, Montana    Midwest   \n",
       "2    Gamma      University of Washington      Seattle, Washington    Western   \n",
       "3    Delta        University of Oklahoma         Norman, Oklahoma  Southwest   \n",
       "4  Epsilon  Mississippi State University  Starkville, Mississippi  Southeast   \n",
       "\n",
       "                      Charter Date  Status        Lat        Long  \n",
       "0                November 27, 1919  Active  36.115631  -97.058572  \n",
       "1                December 17, 1920  Active  45.679984 -111.044675  \n",
       "2  December 16, 1920July 10, 1993*  Active  47.603832 -122.330062  \n",
       "3                     May 21, 1921  Active  35.222572  -97.439482  \n",
       "4    April 20, 1923April 20, 1994*  Active  33.450400  -88.818387  "
      ]
     },
     "execution_count": 31,
     "metadata": {},
     "output_type": "execute_result"
    }
   ],
   "source": [
    "chapters.head()"
   ]
  },
  {
   "cell_type": "code",
   "execution_count": 40,
   "metadata": {},
   "outputs": [],
   "source": [
    "new = pd.read_csv(\"chapters_geo.csv\")"
   ]
  },
  {
   "cell_type": "code",
   "execution_count": 41,
   "metadata": {},
   "outputs": [
    {
     "data": {
      "text/html": [
       "<div>\n",
       "<style scoped>\n",
       "    .dataframe tbody tr th:only-of-type {\n",
       "        vertical-align: middle;\n",
       "    }\n",
       "\n",
       "    .dataframe tbody tr th {\n",
       "        vertical-align: top;\n",
       "    }\n",
       "\n",
       "    .dataframe thead th {\n",
       "        text-align: right;\n",
       "    }\n",
       "</style>\n",
       "<table border=\"1\" class=\"dataframe\">\n",
       "  <thead>\n",
       "    <tr style=\"text-align: right;\">\n",
       "      <th></th>\n",
       "      <th>Chapter</th>\n",
       "      <th>Institution</th>\n",
       "      <th>Location</th>\n",
       "      <th>District</th>\n",
       "      <th>Charter Date</th>\n",
       "      <th>Status</th>\n",
       "      <th>Lat</th>\n",
       "      <th>Long</th>\n",
       "    </tr>\n",
       "  </thead>\n",
       "  <tbody>\n",
       "    <tr>\n",
       "      <th>0</th>\n",
       "      <td>Alpha</td>\n",
       "      <td>Oklahoma State University</td>\n",
       "      <td>Stillwater, Oklahoma</td>\n",
       "      <td>Southwest</td>\n",
       "      <td>November 27, 1919</td>\n",
       "      <td>Active</td>\n",
       "      <td>36.115631</td>\n",
       "      <td>-97.058572</td>\n",
       "    </tr>\n",
       "    <tr>\n",
       "      <th>1</th>\n",
       "      <td>Beta</td>\n",
       "      <td>Montana State University</td>\n",
       "      <td>Bozeman, Montana</td>\n",
       "      <td>Midwest</td>\n",
       "      <td>December 17, 1920</td>\n",
       "      <td>Active</td>\n",
       "      <td>45.679984</td>\n",
       "      <td>-111.044675</td>\n",
       "    </tr>\n",
       "    <tr>\n",
       "      <th>2</th>\n",
       "      <td>Gamma</td>\n",
       "      <td>University of Washington</td>\n",
       "      <td>Seattle, Washington</td>\n",
       "      <td>Western</td>\n",
       "      <td>December 16, 1920</td>\n",
       "      <td>Active</td>\n",
       "      <td>47.603832</td>\n",
       "      <td>-122.330062</td>\n",
       "    </tr>\n",
       "    <tr>\n",
       "      <th>3</th>\n",
       "      <td>Delta</td>\n",
       "      <td>University of Oklahoma</td>\n",
       "      <td>Norman, Oklahoma</td>\n",
       "      <td>Southwest</td>\n",
       "      <td>May 21, 1921</td>\n",
       "      <td>Active</td>\n",
       "      <td>35.222572</td>\n",
       "      <td>-97.439482</td>\n",
       "    </tr>\n",
       "    <tr>\n",
       "      <th>4</th>\n",
       "      <td>Epsilon</td>\n",
       "      <td>Mississippi State University</td>\n",
       "      <td>Starkville, Mississippi</td>\n",
       "      <td>Southeast</td>\n",
       "      <td>April 20, 1923</td>\n",
       "      <td>Active</td>\n",
       "      <td>33.450400</td>\n",
       "      <td>-88.818387</td>\n",
       "    </tr>\n",
       "  </tbody>\n",
       "</table>\n",
       "</div>"
      ],
      "text/plain": [
       "   Chapter                   Institution                 Location   District  \\\n",
       "0    Alpha     Oklahoma State University     Stillwater, Oklahoma  Southwest   \n",
       "1     Beta      Montana State University         Bozeman, Montana    Midwest   \n",
       "2    Gamma      University of Washington      Seattle, Washington    Western   \n",
       "3    Delta        University of Oklahoma         Norman, Oklahoma  Southwest   \n",
       "4  Epsilon  Mississippi State University  Starkville, Mississippi  Southeast   \n",
       "\n",
       "        Charter Date  Status        Lat        Long  \n",
       "0  November 27, 1919  Active  36.115631  -97.058572  \n",
       "1  December 17, 1920  Active  45.679984 -111.044675  \n",
       "2  December 16, 1920  Active  47.603832 -122.330062  \n",
       "3       May 21, 1921  Active  35.222572  -97.439482  \n",
       "4     April 20, 1923  Active  33.450400  -88.818387  "
      ]
     },
     "execution_count": 41,
     "metadata": {},
     "output_type": "execute_result"
    }
   ],
   "source": [
    "new.head()"
   ]
  }
 ],
 "metadata": {
  "kernelspec": {
   "display_name": "Python 3",
   "language": "python",
   "name": "python3"
  },
  "language_info": {
   "codemirror_mode": {
    "name": "ipython",
    "version": 3
   },
   "file_extension": ".py",
   "mimetype": "text/x-python",
   "name": "python",
   "nbconvert_exporter": "python",
   "pygments_lexer": "ipython3",
   "version": "3.6.7"
  }
 },
 "nbformat": 4,
 "nbformat_minor": 2
}
